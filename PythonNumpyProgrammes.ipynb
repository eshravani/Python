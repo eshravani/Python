{
  "nbformat": 4,
  "nbformat_minor": 0,
  "metadata": {
    "colab": {
      "provenance": [],
      "authorship_tag": "ABX9TyPTmXkYEDpih+CNXCDq8Why",
      "include_colab_link": true
    },
    "kernelspec": {
      "name": "python3",
      "display_name": "Python 3"
    },
    "language_info": {
      "name": "python"
    }
  },
  "cells": [
    {
      "cell_type": "markdown",
      "metadata": {
        "id": "view-in-github",
        "colab_type": "text"
      },
      "source": [
        "<a href=\"https://colab.research.google.com/github/eshravani/Python/blob/main/PythonNumpyProgrammes.ipynb\" target=\"_parent\"><img src=\"https://colab.research.google.com/assets/colab-badge.svg\" alt=\"Open In Colab\"/></a>"
      ]
    },
    {
      "cell_type": "code",
      "execution_count": 1,
      "metadata": {
        "colab": {
          "base_uri": "https://localhost:8080/"
        },
        "id": "v85k5-i5TEnu",
        "outputId": "37063f18-2aa2-462a-baaf-fc88c8f30131"
      },
      "outputs": [
        {
          "output_type": "stream",
          "name": "stdout",
          "text": [
            "Downloading...\n",
            "From: https://drive.google.com/uc?id=1c0ClC8SrPwJq5rrkyMKyPn80nyHcFikK\n",
            "To: /content/survey.txt\n",
            "\r  0% 0.00/2.55k [00:00<?, ?B/s]\r100% 2.55k/2.55k [00:00<00:00, 17.1MB/s]\n"
          ]
        }
      ],
      "source": [
        "!gdown 1c0ClC8SrPwJq5rrkyMKyPn80nyHcFikK"
      ]
    },
    {
      "cell_type": "code",
      "source": [
        "import numpy as np\n",
        "np.abs(-10)"
      ],
      "metadata": {
        "colab": {
          "base_uri": "https://localhost:8080/"
        },
        "id": "48W8_s0nYvZC",
        "outputId": "7caf0781-a0cb-4f3a-816a-0c28f61a0340"
      },
      "execution_count": 3,
      "outputs": [
        {
          "output_type": "execute_result",
          "data": {
            "text/plain": [
              "10"
            ]
          },
          "metadata": {},
          "execution_count": 3
        }
      ]
    },
    {
      "cell_type": "code",
      "source": [
        "scores = np.loadtxt(\"survey.txt\",dtype=int)\n",
        "scores"
      ],
      "metadata": {
        "colab": {
          "base_uri": "https://localhost:8080/"
        },
        "id": "T1Hp3IpGctJD",
        "outputId": "0e1fdc5b-98c3-4c1a-db92-edba46bde20f"
      },
      "execution_count": 9,
      "outputs": [
        {
          "output_type": "execute_result",
          "data": {
            "text/plain": [
              "array([ 7, 10,  5, ...,  5,  9, 10])"
            ]
          },
          "metadata": {},
          "execution_count": 9
        }
      ]
    },
    {
      "cell_type": "code",
      "source": [
        "scores\n",
        "totalscores = scores.size\n",
        "print(\"totalscores:\",totalscores)\n",
        "promotersmask = scores>8\n",
        "promoters = scores[promotersmask].size\n",
        "print(\"promoters:\",promoters)\n",
        "promoter_pct = (promoters/totalscores)*100\n",
        "print(\"promoter_pct:\" ,promoter_pct )\n",
        "detractors = scores[scores<7].size\n",
        "print(\"detractors:\",detractors)\n",
        "detractor_pct = (detractors/totalscores)*100\n",
        "print(\"detractor_pct:\",detractor_pct)\n",
        "nps = promoter_pct-detractor_pct\n",
        "print(\"nps:\",round(nps,2))"
      ],
      "metadata": {
        "colab": {
          "base_uri": "https://localhost:8080/"
        },
        "id": "_ucQnIZvdQOJ",
        "outputId": "c1fe27b1-6299-43d7-ced9-28f64d22ad1e"
      },
      "execution_count": 25,
      "outputs": [
        {
          "output_type": "stream",
          "name": "stdout",
          "text": [
            "totalscores: 1167\n",
            "promoters: 609\n",
            "promoter_pct: 52.185089974293064\n",
            "detractors: 332\n",
            "detractor_pct: 28.449014567266495\n",
            "nps: 23.74\n"
          ]
        }
      ]
    }
  ]
}